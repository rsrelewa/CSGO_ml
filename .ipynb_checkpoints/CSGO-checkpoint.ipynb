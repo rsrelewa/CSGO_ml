{
 "cells": [
  {
   "cell_type": "code",
   "execution_count": 1,
   "id": "b761b419-f82c-495a-a8ad-1deaccebb44f",
   "metadata": {},
   "outputs": [],
   "source": [
    "import requests\n",
    "\n",
    "url = \"https://www.openml.org/data/download/22102255/dataset\"\n",
    "\n",
    "r = requests.get(url,allow_redirects=True)"
   ]
  },
  {
   "cell_type": "code",
   "execution_count": 4,
   "id": "642f2f76-891e-4198-a442-e9698452ec90",
   "metadata": {},
   "outputs": [],
   "source": [
    "with open(\"dataset.txt\",\"wb\") as file:\n",
    "    file.write(r.content)"
   ]
  },
  {
   "cell_type": "code",
   "execution_count": 5,
   "id": "d0bd6ab2-7782-460a-a691-10da1c228e54",
   "metadata": {},
   "outputs": [],
   "source": [
    "import pandas as pd"
   ]
  },
  {
   "cell_type": "code",
   "execution_count": 12,
   "id": "2f02396e-8508-4baa-b757-7a7aafd0acb6",
   "metadata": {},
   "outputs": [],
   "source": [
    "data = []\n",
    "\n",
    "with open(\"dataset.txt\", \"r\") as f:\n",
    "    for line in f.read().split(\"\\n\"):\n",
    "        if line.startswith(\"@\") or line.startswith(\"%\") or line == \"\":\n",
    "            continue\n",
    "        data.append(line)\n",
    "    "
   ]
  },
  {
   "cell_type": "code",
   "execution_count": 14,
   "id": "9366397b-88c8-4b16-a6f2-c1dd78494773",
   "metadata": {},
   "outputs": [],
   "source": [
    "columns = []\n",
    "\n",
    "with open(\"dataset.txt\",\"r\") as f:\n",
    "    for line in f.read().split(\"\\n\"):\n",
    "        if line.startswith(\"@ATTRIBUTE\"):\n",
    "            columns.append(line.split(\" \")[1])"
   ]
  },
  {
   "cell_type": "code",
   "execution_count": null,
   "id": "395187e2-5843-4fb8-b19f-832cfd9a8b92",
   "metadata": {},
   "outputs": [],
   "source": []
  }
 ],
 "metadata": {
  "kernelspec": {
   "display_name": "Python 3 (ipykernel)",
   "language": "python",
   "name": "python3"
  },
  "language_info": {
   "codemirror_mode": {
    "name": "ipython",
    "version": 3
   },
   "file_extension": ".py",
   "mimetype": "text/x-python",
   "name": "python",
   "nbconvert_exporter": "python",
   "pygments_lexer": "ipython3",
   "version": "3.8.10"
  }
 },
 "nbformat": 4,
 "nbformat_minor": 5
}
